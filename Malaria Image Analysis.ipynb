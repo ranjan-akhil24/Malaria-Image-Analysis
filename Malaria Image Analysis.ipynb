{
 "cells": [
  {
   "cell_type": "code",
   "execution_count": 1,
   "metadata": {},
   "outputs": [],
   "source": [
    "import os\n",
    " \n",
    "# initialize the path to the *original* input directory of images\n",
    "ORIG_INPUT_DATASET = \"malaria/cell_images\"\n",
    " \n",
    "# initialize the base path to the *new* directory that will contain\n",
    "# our images after computing the training and testing split\n",
    "BASE_PATH = \"malaria\"\n",
    " \n",
    "# derive the training, validation, and testing directories\n",
    "TRAIN_PATH = os.path.sep.join([BASE_PATH, \"training\"])\n",
    "VAL_PATH = os.path.sep.join([BASE_PATH, \"validation\"])\n",
    "TEST_PATH = os.path.sep.join([BASE_PATH, \"testing\"])\n",
    " \n",
    "# define the amount of data that will be used training\n",
    "TRAIN_SPLIT = 0.8\n",
    " \n",
    "# the amount of validation data will be a percentage of the\n",
    "# *training* data\n",
    "VAL_SPLIT = 0.1"
   ]
  },
  {
   "cell_type": "code",
   "execution_count": 2,
   "metadata": {},
   "outputs": [],
   "source": [
    "from pyimagesearch import config\n",
    "from imutils import paths\n",
    "import random\n",
    "import shutil\n",
    "import os\n",
    " \n",
    "# grab the paths to all input images in the original input directory\n",
    "# and shuffle them\n",
    "imagePaths = list(paths.list_images(config.ORIG_INPUT_DATASET))\n",
    "random.seed(42)\n",
    "random.shuffle(imagePaths)"
   ]
  },
  {
   "cell_type": "code",
   "execution_count": 3,
   "metadata": {},
   "outputs": [],
   "source": [
    "# compute the training and testing split\n",
    "i = int(len(imagePaths) * config.TRAIN_SPLIT)\n",
    "trainPaths = imagePaths[:i]\n",
    "testPaths = imagePaths[i:]\n",
    " \n",
    "# we'll be using part of the training data for validation\n",
    "i = int(len(trainPaths) * config.VAL_SPLIT)\n",
    "valPaths = trainPaths[:i]\n",
    "trainPaths = trainPaths[i:]"
   ]
  },
  {
   "cell_type": "code",
   "execution_count": 4,
   "metadata": {},
   "outputs": [],
   "source": [
    "datasets = [\n",
    "\t(\"training\", trainPaths, config.TRAIN_PATH),\n",
    "\t(\"validation\", valPaths, config.VAL_PATH),\n",
    "\t(\"testing\", testPaths, config.TEST_PATH)\n",
    "]"
   ]
  },
  {
   "cell_type": "code",
   "execution_count": 5,
   "metadata": {},
   "outputs": [
    {
     "name": "stdout",
     "output_type": "stream",
     "text": [
      "[INFO] building 'training' split\n",
      "[INFO] building 'validation' split\n",
      "[INFO] building 'testing' split\n"
     ]
    }
   ],
   "source": [
    "for (dType, imagePaths, baseOutput) in datasets:\n",
    "\t# show which data split we are creating\n",
    "\tprint(\"[INFO] building '{}' split\".format(dType))\n",
    " \n",
    "\t# if the output base output directory does not exist, create it\n",
    "\tif not os.path.exists(baseOutput):\n",
    "\t\tprint(\"[INFO] 'creating {}' directory\".format(baseOutput))\n",
    "\t\tos.makedirs(baseOutput)\n",
    " \n",
    "\t# loop over the input image paths\n",
    "\tfor inputPath in imagePaths:\n",
    "\t\t# extract the filename of the input image along with its\n",
    "\t\t# corresponding class label\n",
    "\t\tfilename = inputPath.split(os.path.sep)[-1]\n",
    "\t\tlabel = inputPath.split(os.path.sep)[-2]\n",
    " \n",
    "\t\t# build the path to the label directory\n",
    "\t\tlabelPath = os.path.sep.join([baseOutput, label])\n",
    " \n",
    "\t\t# if the label output directory does not exist, create it\n",
    "\t\tif not os.path.exists(labelPath):\n",
    "\t\t\tprint(\"[INFO] 'creating {}' directory\".format(labelPath))\n",
    "\t\t\tos.makedirs(labelPath)\n",
    " \n",
    "\t\t# construct the path to the destination image and then copy\n",
    "\t\t# the image itself\n",
    "\t\tp = os.path.sep.join([labelPath, filename])\n",
    "\t\tshutil.copy2(inputPath, p)"
   ]
  },
  {
   "cell_type": "code",
   "execution_count": 6,
   "metadata": {},
   "outputs": [
    {
     "name": "stdout",
     "output_type": "stream",
     "text": [
      "Model: \"vgg16\"\n",
      "_________________________________________________________________\n",
      "Layer (type)                 Output Shape              Param #   \n",
      "=================================================================\n",
      "input_1 (InputLayer)         [(None, 64, 64, 3)]       0         \n",
      "_________________________________________________________________\n",
      "block1_conv1 (Conv2D)        (None, 64, 64, 64)        1792      \n",
      "_________________________________________________________________\n",
      "block1_conv2 (Conv2D)        (None, 64, 64, 64)        36928     \n",
      "_________________________________________________________________\n",
      "block1_pool (MaxPooling2D)   (None, 32, 32, 64)        0         \n",
      "_________________________________________________________________\n",
      "block2_conv1 (Conv2D)        (None, 32, 32, 128)       73856     \n",
      "_________________________________________________________________\n",
      "block2_conv2 (Conv2D)        (None, 32, 32, 128)       147584    \n",
      "_________________________________________________________________\n",
      "block2_pool (MaxPooling2D)   (None, 16, 16, 128)       0         \n",
      "_________________________________________________________________\n",
      "block3_conv1 (Conv2D)        (None, 16, 16, 256)       295168    \n",
      "_________________________________________________________________\n",
      "block3_conv2 (Conv2D)        (None, 16, 16, 256)       590080    \n",
      "_________________________________________________________________\n",
      "block3_conv3 (Conv2D)        (None, 16, 16, 256)       590080    \n",
      "_________________________________________________________________\n",
      "block3_pool (MaxPooling2D)   (None, 8, 8, 256)         0         \n",
      "_________________________________________________________________\n",
      "block4_conv1 (Conv2D)        (None, 8, 8, 512)         1180160   \n",
      "_________________________________________________________________\n",
      "block4_conv2 (Conv2D)        (None, 8, 8, 512)         2359808   \n",
      "_________________________________________________________________\n",
      "block4_conv3 (Conv2D)        (None, 8, 8, 512)         2359808   \n",
      "_________________________________________________________________\n",
      "block4_pool (MaxPooling2D)   (None, 4, 4, 512)         0         \n",
      "_________________________________________________________________\n",
      "block5_conv1 (Conv2D)        (None, 4, 4, 512)         2359808   \n",
      "_________________________________________________________________\n",
      "block5_conv2 (Conv2D)        (None, 4, 4, 512)         2359808   \n",
      "_________________________________________________________________\n",
      "block5_conv3 (Conv2D)        (None, 4, 4, 512)         2359808   \n",
      "_________________________________________________________________\n",
      "block5_pool (MaxPooling2D)   (None, 2, 2, 512)         0         \n",
      "=================================================================\n",
      "Total params: 14,714,688\n",
      "Trainable params: 14,714,688\n",
      "Non-trainable params: 0\n",
      "_________________________________________________________________\n"
     ]
    }
   ],
   "source": [
    "from keras.applications import VGG16\n",
    "\n",
    "conv_base = VGG16(weights = \"imagenet\",\n",
    "include_top = False, input_shape =(64,64,3))\n",
    "conv_base.summary()"
   ]
  },
  {
   "cell_type": "code",
   "execution_count": 7,
   "metadata": {},
   "outputs": [],
   "source": [
    "import numpy as np\n",
    "from keras.preprocessing.image import ImageDataGenerator\n",
    "datagen = ImageDataGenerator(rescale=1 / 255.0)"
   ]
  },
  {
   "cell_type": "code",
   "execution_count": 8,
   "metadata": {},
   "outputs": [],
   "source": [
    "datagen = ImageDataGenerator(rescale=1./255,\n",
    "                            shear_range = 0.2,\n",
    "                            zoom_range=0.2,\n",
    "                            horizontal_flip=True)\n",
    "batch_size = 4\n",
    "\n",
    "\n",
    "def extract_features(directory, sample_count):\n",
    "    features = np.zeros(shape=(sample_count, 2, 2, 512))\n",
    "    labels = np.zeros(shape=(sample_count))\n",
    "    generator = datagen.flow_from_directory(\n",
    "        directory,\n",
    "        class_mode=\"binary\",\n",
    "        target_size=(64, 64),\n",
    "        batch_size=batch_size,\n",
    "        color_mode=\"rgb\")\n",
    "    \n",
    "    i = 0\n",
    "    for inputs_batch, labels_batch in generator:\n",
    "\n",
    "\n",
    "        #print(labels_batch)\n",
    "        features_batch = conv_base.predict(inputs_batch)\n",
    "        #print(features_batch)\n",
    "        features[i * batch_size: (i+1) * batch_size] = features_batch\n",
    "        labels[i * batch_size: (i+1) * batch_size] = labels_batch\n",
    "        i += 1\n",
    "        #print(i)\n",
    "        if ((i * batch_size % 1000) == 0 ):\n",
    "            print(\"processed size =\", i * batch_size)\n",
    "        if i * batch_size >= sample_count:\n",
    "            break\n",
    "\n",
    "    return features, labels  "
   ]
  },
  {
   "cell_type": "code",
   "execution_count": 9,
   "metadata": {},
   "outputs": [
    {
     "name": "stdout",
     "output_type": "stream",
     "text": [
      "Found 2204 images belonging to 2 classes.\n",
      "processed size = 1000\n",
      "processed size = 2000\n"
     ]
    }
   ],
   "source": [
    "# Extract validation features\n",
    "nVal = 2204\n",
    "val_features, val_labels = extract_features(config.VAL_PATH, nVal)"
   ]
  },
  {
   "cell_type": "code",
   "execution_count": 10,
   "metadata": {},
   "outputs": [],
   "source": [
    "np.save('validation_features', val_features)\n",
    "np.save('validation_labels', val_labels)"
   ]
  },
  {
   "cell_type": "code",
   "execution_count": 11,
   "metadata": {},
   "outputs": [
    {
     "name": "stdout",
     "output_type": "stream",
     "text": [
      "Found 5512 images belonging to 2 classes.\n",
      "processed size = 1000\n",
      "processed size = 2000\n",
      "processed size = 3000\n",
      "processed size = 4000\n",
      "processed size = 5000\n"
     ]
    }
   ],
   "source": [
    "# Extract test features\n",
    "nTest = 5512\n",
    "test_features, test_labels = extract_features(config.TEST_PATH, nTest)"
   ]
  },
  {
   "cell_type": "code",
   "execution_count": 12,
   "metadata": {},
   "outputs": [],
   "source": [
    "np.save('test_features', test_features)\n",
    "np.save('test_labels', test_labels)"
   ]
  },
  {
   "cell_type": "code",
   "execution_count": 13,
   "metadata": {},
   "outputs": [
    {
     "name": "stdout",
     "output_type": "stream",
     "text": [
      "Found 19842 images belonging to 2 classes.\n",
      "processed size = 1000\n",
      "processed size = 2000\n",
      "processed size = 3000\n",
      "processed size = 4000\n",
      "processed size = 5000\n",
      "processed size = 6000\n",
      "processed size = 7000\n",
      "processed size = 8000\n",
      "processed size = 9000\n",
      "processed size = 10000\n",
      "processed size = 11000\n",
      "processed size = 12000\n",
      "processed size = 13000\n",
      "processed size = 14000\n",
      "processed size = 15000\n",
      "processed size = 16000\n",
      "processed size = 17000\n",
      "processed size = 18000\n",
      "processed size = 19000\n"
     ]
    }
   ],
   "source": [
    "# Extract train features\n",
    "nTrain = 19842\n",
    "train_features, train_labels = extract_features(config.TRAIN_PATH, nTrain)"
   ]
  },
  {
   "cell_type": "code",
   "execution_count": 14,
   "metadata": {},
   "outputs": [],
   "source": [
    "np.save('train_features', train_features)\n",
    "np.save('train_labels', train_labels)"
   ]
  },
  {
   "cell_type": "markdown",
   "metadata": {},
   "source": [
    "# Load the features"
   ]
  },
  {
   "cell_type": "code",
   "execution_count": 15,
   "metadata": {},
   "outputs": [],
   "source": [
    "train_features = np.load('train_features.npy')\n",
    "test_features = np.load('test_features.npy')\n",
    "validation_features = np.load('validation_features.npy')"
   ]
  },
  {
   "cell_type": "code",
   "execution_count": 16,
   "metadata": {},
   "outputs": [],
   "source": [
    "train_labels = np.load('train_labels.npy')\n",
    "test_labels = np.load('test_labels.npy')\n",
    "validation_labels = np.load('validation_labels.npy')"
   ]
  },
  {
   "cell_type": "code",
   "execution_count": 17,
   "metadata": {},
   "outputs": [],
   "source": [
    "nVal = 2204\n",
    "nTrain = 19842\n",
    "nTest = 5512"
   ]
  },
  {
   "cell_type": "code",
   "execution_count": 49,
   "metadata": {},
   "outputs": [],
   "source": [
    "train_features = np.reshape(train_features, (nTrain, 2 * 2 * 512))\n",
    "test_features = np.reshape(test_features, (nTest, 2 * 2 * 512))\n",
    "validation_features = np.reshape(validation_features, (nVal, 2 * 2 * 512))"
   ]
  },
  {
   "cell_type": "code",
   "execution_count": 19,
   "metadata": {},
   "outputs": [
    {
     "name": "stdout",
     "output_type": "stream",
     "text": [
      "[INFO] building 'training' split\n",
      "[INFO] building 'validation' split\n",
      "[INFO] building 'testing' split\n"
     ]
    }
   ],
   "source": [
    "# loop over the datasets\n",
    "for (dType, imagePaths, baseOutput) in datasets:\n",
    "    # show which data split we are creating\n",
    "    print(\"[INFO] building '{}' split\".format(dType))\n",
    " \n",
    "    # if the output base output directory does not exist, create it\n",
    "    if not os.path.exists(baseOutput):\n",
    "        print(\"[INFO] 'creating {}' directory\".format(baseOutput))\n",
    "        os.makedirs(baseOutput)\n",
    " \n",
    "# loop over the input image paths\n",
    "    for inputPath in imagePaths:\n",
    "        # extract the filename of the input image along with its\n",
    "        # corresponding class label\n",
    "        filename = inputPath.split(os.path.sep)[-1]\n",
    "        label = inputPath.split(os.path.sep)[-2]\n",
    " \n",
    "        # build the path to the label directory\n",
    "        labelPath = os.path.sep.join([baseOutput, label])\n",
    " \n",
    "        # if the label output directory does not exist, create it\n",
    "        if not os.path.exists(labelPath):\n",
    "            print(\"[INFO] 'creating {}' directory\".format(labelPath))\n",
    "            os.makedirs(labelPath)\n",
    " \n",
    "        # construct the path to the destination image and then copy\n",
    "        # the image itself\n",
    "        p = os.path.sep.join([labelPath, filename])\n",
    "        shutil.copy2(inputPath, p)"
   ]
  },
  {
   "cell_type": "code",
   "execution_count": 20,
   "metadata": {},
   "outputs": [
    {
     "name": "stdout",
     "output_type": "stream",
     "text": [
      "Epoch 1/30\n",
      "4961/4961 [==============================] - 28s 5ms/step - loss: 0.4825 - acc: 0.7719 - val_loss: 0.3079 - val_acc: 0.8848\n",
      "Epoch 2/30\n",
      "4961/4961 [==============================] - 26s 5ms/step - loss: 0.3378 - acc: 0.8651 - val_loss: 0.2806 - val_acc: 0.9056\n",
      "Epoch 3/30\n",
      "4961/4961 [==============================] - 26s 5ms/step - loss: 0.3225 - acc: 0.8823 - val_loss: 0.3040 - val_acc: 0.8925\n",
      "Epoch 4/30\n",
      "4961/4961 [==============================] - 25s 5ms/step - loss: 0.3030 - acc: 0.8863 - val_loss: 0.2561 - val_acc: 0.9025\n",
      "Epoch 5/30\n",
      "4961/4961 [==============================] - 25s 5ms/step - loss: 0.2938 - acc: 0.8908 - val_loss: 0.2811 - val_acc: 0.8952\n",
      "Epoch 6/30\n",
      "4961/4961 [==============================] - 25s 5ms/step - loss: 0.2948 - acc: 0.8951 - val_loss: 0.2622 - val_acc: 0.9034\n",
      "Epoch 7/30\n",
      "4961/4961 [==============================] - 24s 5ms/step - loss: 0.2956 - acc: 0.8934 - val_loss: 0.2728 - val_acc: 0.9093\n",
      "Epoch 8/30\n",
      "4961/4961 [==============================] - 27s 5ms/step - loss: 0.2949 - acc: 0.8982 - val_loss: 0.2429 - val_acc: 0.9074\n",
      "Epoch 9/30\n",
      "4961/4961 [==============================] - 26s 5ms/step - loss: 0.2757 - acc: 0.9030 - val_loss: 0.2536 - val_acc: 0.9079\n",
      "Epoch 10/30\n",
      "4961/4961 [==============================] - 25s 5ms/step - loss: 0.2826 - acc: 0.8962 - val_loss: 0.2799 - val_acc: 0.8984\n",
      "Epoch 11/30\n",
      "4961/4961 [==============================] - 25s 5ms/step - loss: 0.2894 - acc: 0.9034 - val_loss: 0.2670 - val_acc: 0.9102\n",
      "Epoch 12/30\n",
      "4961/4961 [==============================] - 27s 5ms/step - loss: 0.2774 - acc: 0.9041 - val_loss: 0.2518 - val_acc: 0.9056\n",
      "Epoch 13/30\n",
      "4961/4961 [==============================] - 24s 5ms/step - loss: 0.2913 - acc: 0.9021 - val_loss: 0.2609 - val_acc: 0.9102\n",
      "Epoch 14/30\n",
      "4961/4961 [==============================] - 24s 5ms/step - loss: 0.2826 - acc: 0.8999 - val_loss: 0.2460 - val_acc: 0.9161\n",
      "Epoch 15/30\n",
      "4961/4961 [==============================] - 24s 5ms/step - loss: 0.2759 - acc: 0.9061 - val_loss: 0.2604 - val_acc: 0.9188\n",
      "Epoch 16/30\n",
      "4961/4961 [==============================] - 24s 5ms/step - loss: 0.2878 - acc: 0.9035 - val_loss: 0.3003 - val_acc: 0.9029\n",
      "Epoch 17/30\n",
      "4961/4961 [==============================] - 23s 5ms/step - loss: 0.2686 - acc: 0.8991 - val_loss: 0.2660 - val_acc: 0.8893\n",
      "Epoch 18/30\n",
      "4961/4961 [==============================] - 23s 5ms/step - loss: 0.2831 - acc: 0.9017 - val_loss: 0.2510 - val_acc: 0.9156\n",
      "Epoch 19/30\n",
      "4961/4961 [==============================] - 23s 5ms/step - loss: 0.2701 - acc: 0.9107 - val_loss: 0.3057 - val_acc: 0.9147\n",
      "Epoch 20/30\n",
      "4961/4961 [==============================] - 23s 5ms/step - loss: 0.2746 - acc: 0.9043 - val_loss: 0.2851 - val_acc: 0.9179\n",
      "Epoch 21/30\n",
      "4961/4961 [==============================] - 23s 5ms/step - loss: 0.2671 - acc: 0.9090 - val_loss: 0.2552 - val_acc: 0.9097\n",
      "Epoch 22/30\n",
      "4961/4961 [==============================] - 23s 5ms/step - loss: 0.2637 - acc: 0.9099 - val_loss: 0.2435 - val_acc: 0.9124\n",
      "Epoch 23/30\n",
      "4961/4961 [==============================] - 23s 5ms/step - loss: 0.2749 - acc: 0.9069 - val_loss: 0.2947 - val_acc: 0.9133\n",
      "Epoch 24/30\n",
      "4961/4961 [==============================] - 24s 5ms/step - loss: 0.2711 - acc: 0.9101 - val_loss: 0.2624 - val_acc: 0.9074\n",
      "Epoch 25/30\n",
      "4961/4961 [==============================] - 23s 5ms/step - loss: 0.2788 - acc: 0.9033 - val_loss: 0.2667 - val_acc: 0.9115\n",
      "Epoch 26/30\n",
      "4961/4961 [==============================] - 24s 5ms/step - loss: 0.2769 - acc: 0.9039 - val_loss: 0.2563 - val_acc: 0.9152\n",
      "Epoch 27/30\n",
      "4961/4961 [==============================] - 24s 5ms/step - loss: 0.2708 - acc: 0.9073 - val_loss: 0.2621 - val_acc: 0.9179\n",
      "Epoch 28/30\n",
      "4961/4961 [==============================] - 24s 5ms/step - loss: 0.2732 - acc: 0.9089 - val_loss: 0.3074 - val_acc: 0.9170\n",
      "Epoch 29/30\n",
      "4961/4961 [==============================] - 24s 5ms/step - loss: 0.2606 - acc: 0.9113 - val_loss: 0.2806 - val_acc: 0.9129\n",
      "Epoch 30/30\n",
      "4961/4961 [==============================] - 24s 5ms/step - loss: 0.2748 - acc: 0.9064 - val_loss: 0.2834 - val_acc: 0.9179\n"
     ]
    }
   ],
   "source": [
    "from keras import models\n",
    "from keras import layers\n",
    "from keras import optimizers\n",
    "model1 = models.Sequential()\n",
    "model1.add(layers.Dense(256, activation = \"relu\", input_dim = 2 * 2 * 512))\n",
    "model1.add(layers.Dropout(0.5))\n",
    "model1.add(layers.Dense(256, activation = \"relu\", input_dim = 2 * 2 * 512))\n",
    "model1.add(layers.Dropout(0.7))\n",
    "model1.add(layers.Dense(256, activation = \"relu\", input_dim = 2 * 2 * 512))\n",
    "model1.add(layers.Dropout(0.3))\n",
    "model1.add(layers.Dense(1, activation='sigmoid'))\n",
    "\n",
    "model1.compile(optimizer=optimizers.Adam(),\n",
    "              loss='binary_crossentropy',\n",
    "              metrics=['acc'])\n",
    "\n",
    "history = model1.fit(train_features, train_labels,\n",
    "                    epochs=30,\n",
    "                    batch_size=4,\n",
    "                    validation_data=(validation_features, validation_labels))"
   ]
  },
  {
   "cell_type": "code",
   "execution_count": 21,
   "metadata": {},
   "outputs": [
    {
     "data": {
      "image/png": "[encoded data removed]",
      "text/plain": [
       "<Figure size 432x288 with 1 Axes>"
      ]
     },
     "metadata": {
      "needs_background": "light"
     },
     "output_type": "display_data"
    },
    {
     "data": {
      "image/png": "[encoded data removed]",
      "text/plain": [
       "<Figure size 432x288 with 1 Axes>"
      ]
     },
     "metadata": {
      "needs_background": "light"
     },
     "output_type": "display_data"
    }
   ],
   "source": [
    "import matplotlib.pyplot as plt\n",
    "\n",
    "acc = history.history['acc']\n",
    "val_acc = history.history['val_acc']\n",
    "loss = history.history['loss']\n",
    "val_loss = history.history['val_loss']\n",
    "\n",
    "epochs = range(len(acc))\n",
    "\n",
    "plt.plot(epochs, acc, 'bo', label='Training acc')\n",
    "plt.plot(epochs, val_acc, 'b', label='Validation acc')\n",
    "plt.title('Training and validation accuracy')\n",
    "plt.legend()\n",
    "\n",
    "plt.figure()\n",
    "\n",
    "plt.plot(epochs, loss, 'bo', label='Training loss')\n",
    "plt.plot(epochs, val_loss, 'b', label='Validation loss')\n",
    "plt.title('Training and validation loss')\n",
    "plt.legend()\n",
    "\n",
    "plt.show()"
   ]
  },
  {
   "cell_type": "code",
   "execution_count": 22,
   "metadata": {},
   "outputs": [
    {
     "name": "stdout",
     "output_type": "stream",
     "text": [
      "173/173 [==============================] - 1s 3ms/step - loss: 0.2708 - acc: 0.9247\n"
     ]
    },
    {
     "data": {
      "text/plain": [
       "[0.27082502841949463, 0.9247097373008728]"
      ]
     },
     "execution_count": 22,
     "metadata": {},
     "output_type": "execute_result"
    }
   ],
   "source": [
    "model1.evaluate(test_features,test_labels)"
   ]
  },
  {
   "cell_type": "code",
   "execution_count": 32,
   "metadata": {},
   "outputs": [
    {
     "name": "stdout",
     "output_type": "stream",
     "text": [
      "Epoch 1/30\n",
      "4961/4961 [==============================] - 25s 5ms/step - loss: 0.3876 - acc: 0.8213 - val_loss: 0.2490 - val_acc: 0.9029\n",
      "Epoch 2/30\n",
      "4961/4961 [==============================] - 24s 5ms/step - loss: 0.2762 - acc: 0.8919 - val_loss: 0.2446 - val_acc: 0.9079\n",
      "Epoch 3/30\n",
      "4961/4961 [==============================] - 28s 6ms/step - loss: 0.2538 - acc: 0.9061 - val_loss: 0.2505 - val_acc: 0.9043\n",
      "Epoch 4/30\n",
      "4961/4961 [==============================] - 29s 6ms/step - loss: 0.2562 - acc: 0.9071 - val_loss: 0.2304 - val_acc: 0.9115\n",
      "Epoch 5/30\n",
      "4961/4961 [==============================] - 24s 5ms/step - loss: 0.2439 - acc: 0.9127 - val_loss: 0.2325 - val_acc: 0.9111\n",
      "Epoch 6/30\n",
      "4961/4961 [==============================] - 25s 5ms/step - loss: 0.2403 - acc: 0.9116 - val_loss: 0.2368 - val_acc: 0.9074\n",
      "Epoch 7/30\n",
      "4961/4961 [==============================] - 25s 5ms/step - loss: 0.2269 - acc: 0.9175 - val_loss: 0.2272 - val_acc: 0.9142\n",
      "Epoch 8/30\n",
      "4961/4961 [==============================] - 25s 5ms/step - loss: 0.2300 - acc: 0.9144 - val_loss: 0.2267 - val_acc: 0.9102\n",
      "Epoch 9/30\n",
      "4961/4961 [==============================] - 27s 5ms/step - loss: 0.2215 - acc: 0.9201 - val_loss: 0.2270 - val_acc: 0.9142\n",
      "Epoch 10/30\n",
      "4961/4961 [==============================] - 27s 5ms/step - loss: 0.2210 - acc: 0.9198 - val_loss: 0.2517 - val_acc: 0.9034\n",
      "Epoch 11/30\n",
      "4961/4961 [==============================] - 25s 5ms/step - loss: 0.2175 - acc: 0.9227 - val_loss: 0.2327 - val_acc: 0.9120\n",
      "Epoch 12/30\n",
      "4961/4961 [==============================] - 25s 5ms/step - loss: 0.2208 - acc: 0.9225 - val_loss: 0.2320 - val_acc: 0.9156\n",
      "Epoch 13/30\n",
      "4961/4961 [==============================] - 26s 5ms/step - loss: 0.2184 - acc: 0.9221 - val_loss: 0.2428 - val_acc: 0.9142\n",
      "Epoch 14/30\n",
      "4961/4961 [==============================] - 25s 5ms/step - loss: 0.2178 - acc: 0.9249 - val_loss: 0.2693 - val_acc: 0.9065\n",
      "Epoch 15/30\n",
      "4961/4961 [==============================] - 25s 5ms/step - loss: 0.2208 - acc: 0.9224 - val_loss: 0.2204 - val_acc: 0.9174\n",
      "Epoch 16/30\n",
      "4961/4961 [==============================] - 26s 5ms/step - loss: 0.2145 - acc: 0.9229 - val_loss: 0.2237 - val_acc: 0.9192\n",
      "Epoch 17/30\n",
      "4961/4961 [==============================] - 25s 5ms/step - loss: 0.2142 - acc: 0.9265 - val_loss: 0.2284 - val_acc: 0.9161\n",
      "Epoch 18/30\n",
      "4961/4961 [==============================] - 27s 5ms/step - loss: 0.2095 - acc: 0.9264 - val_loss: 0.2168 - val_acc: 0.9183\n",
      "Epoch 19/30\n",
      "4961/4961 [==============================] - 25s 5ms/step - loss: 0.2029 - acc: 0.9292 - val_loss: 0.2209 - val_acc: 0.9165\n",
      "Epoch 20/30\n",
      "4961/4961 [==============================] - 26s 5ms/step - loss: 0.2098 - acc: 0.9264 - val_loss: 0.2360 - val_acc: 0.9179\n",
      "Epoch 21/30\n",
      "4961/4961 [==============================] - 25s 5ms/step - loss: 0.2120 - acc: 0.9261 - val_loss: 0.2455 - val_acc: 0.9161\n",
      "Epoch 22/30\n",
      "4961/4961 [==============================] - 25s 5ms/step - loss: 0.2119 - acc: 0.9300 - val_loss: 0.2201 - val_acc: 0.9179\n",
      "Epoch 23/30\n",
      "4961/4961 [==============================] - 25s 5ms/step - loss: 0.2029 - acc: 0.9316 - val_loss: 0.2519 - val_acc: 0.9192\n",
      "Epoch 24/30\n",
      "4961/4961 [==============================] - 26s 5ms/step - loss: 0.2060 - acc: 0.9279 - val_loss: 0.2394 - val_acc: 0.9147\n",
      "Epoch 25/30\n",
      "4961/4961 [==============================] - 25s 5ms/step - loss: 0.2004 - acc: 0.9343 - val_loss: 0.2220 - val_acc: 0.9188\n",
      "Epoch 26/30\n",
      "4961/4961 [==============================] - 26s 5ms/step - loss: 0.2053 - acc: 0.9311 - val_loss: 0.2499 - val_acc: 0.9093\n",
      "Epoch 27/30\n",
      "4961/4961 [==============================] - 26s 5ms/step - loss: 0.2043 - acc: 0.9295 - val_loss: 0.2337 - val_acc: 0.9183\n",
      "Epoch 28/30\n",
      "4961/4961 [==============================] - 26s 5ms/step - loss: 0.2017 - acc: 0.9347 - val_loss: 0.2290 - val_acc: 0.9170\n",
      "Epoch 29/30\n",
      "4961/4961 [==============================] - 31s 6ms/step - loss: 0.2128 - acc: 0.9301 - val_loss: 0.2413 - val_acc: 0.9188\n",
      "Epoch 30/30\n",
      "4961/4961 [==============================] - 30s 6ms/step - loss: 0.2091 - acc: 0.9330 - val_loss: 0.2219 - val_acc: 0.9161\n"
     ]
    }
   ],
   "source": [
    "from keras import models\n",
    "from keras import layers\n",
    "from keras import optimizers\n",
    "model2 = models.Sequential()\n",
    "model2.add(layers.Dense(256, activation = \"relu\", input_dim = 2 * 2 * 512))\n",
    "model2.add(layers.Dropout(0.5))\n",
    "model2.add(layers.Dense(256, activation = \"relu\", input_dim = 2 * 2 * 512))\n",
    "model2.add(layers.Dense(1, activation='sigmoid'))\n",
    "\n",
    "model2.compile(optimizer=optimizers.Adadelta(lr=1.0, rho=0.95, epsilon=1e-08, decay=0.0),\n",
    "              loss='binary_crossentropy',\n",
    "              metrics=['acc'])\n",
    "\n",
    "history2 = model2.fit(train_features, train_labels,\n",
    "                    epochs=30,\n",
    "                    batch_size=4,\n",
    "                    validation_data=(validation_features, validation_labels))"
   ]
  },
  {
   "cell_type": "code",
   "execution_count": 35,
   "metadata": {},
   "outputs": [
    {
     "data": {
      "image/png": "[encoded data removed]",
      "text/plain": [
       "<Figure size 432x288 with 1 Axes>"
      ]
     },
     "metadata": {
      "needs_background": "light"
     },
     "output_type": "display_data"
    },
    {
     "data": {
      "image/png": "[encoded data removed]",
      "text/plain": [
       "<Figure size 432x288 with 1 Axes>"
      ]
     },
     "metadata": {
      "needs_background": "light"
     },
     "output_type": "display_data"
    }
   ],
   "source": [
    "import matplotlib.pyplot as plt\n",
    "\n",
    "acc = history2.history['acc']\n",
    "val_acc = history2.history['val_acc']\n",
    "loss = history2.history['loss']\n",
    "val_loss = history2.history['val_loss']\n",
    "\n",
    "epochs = range(len(acc))\n",
    "\n",
    "plt.plot(epochs, acc, 'bo', label='Training acc')\n",
    "plt.plot(epochs, val_acc, 'b', label='Validation acc')\n",
    "plt.title('Training and validation accuracy')\n",
    "plt.legend()\n",
    "\n",
    "plt.figure()\n",
    "\n",
    "plt.plot(epochs, loss, 'bo', label='Training loss')\n",
    "plt.plot(epochs, val_loss, 'b', label='Validation loss')\n",
    "plt.title('Training and validation loss')\n",
    "plt.legend()\n",
    "\n",
    "plt.show()"
   ]
  },
  {
   "cell_type": "code",
   "execution_count": 36,
   "metadata": {},
   "outputs": [
    {
     "name": "stdout",
     "output_type": "stream",
     "text": [
      "173/173 [==============================] - 1s 4ms/step - loss: 0.2087 - acc: 0.9282\n"
     ]
    },
    {
     "data": {
      "text/plain": [
       "[0.20874659717082977, 0.9281567335128784]"
      ]
     },
     "execution_count": 36,
     "metadata": {},
     "output_type": "execute_result"
    }
   ],
   "source": [
    "model2.evaluate(test_features,test_labels)"
   ]
  },
  {
   "cell_type": "code",
   "execution_count": 53,
   "metadata": {},
   "outputs": [
    {
     "name": "stdout",
     "output_type": "stream",
     "text": [
      "Epoch 1/30\n",
      "4961/4961 [==============================] - 32s 6ms/step - loss: 0.5326 - acc: 0.7084 - val_loss: 0.3094 - val_acc: 0.8920\n",
      "Epoch 2/30\n",
      "4961/4961 [==============================] - 29s 6ms/step - loss: 0.3140 - acc: 0.8826 - val_loss: 0.2763 - val_acc: 0.9043\n",
      "Epoch 3/30\n",
      "4961/4961 [==============================] - 29s 6ms/step - loss: 0.2767 - acc: 0.8998 - val_loss: 0.2566 - val_acc: 0.9065\n",
      "Epoch 4/30\n",
      "4961/4961 [==============================] - 29s 6ms/step - loss: 0.2722 - acc: 0.9013 - val_loss: 0.3161 - val_acc: 0.8916\n",
      "Epoch 5/30\n",
      "4961/4961 [==============================] - 29s 6ms/step - loss: 0.2622 - acc: 0.9092 - val_loss: 0.2665 - val_acc: 0.9093\n",
      "Epoch 6/30\n",
      "4961/4961 [==============================] - 30s 6ms/step - loss: 0.2643 - acc: 0.9073 - val_loss: 0.2361 - val_acc: 0.9142\n",
      "Epoch 7/30\n",
      "4961/4961 [==============================] - 30s 6ms/step - loss: 0.2576 - acc: 0.9111 - val_loss: 0.2359 - val_acc: 0.9142\n",
      "Epoch 8/30\n",
      "4961/4961 [==============================] - 31s 6ms/step - loss: 0.2521 - acc: 0.9143 - val_loss: 0.2426 - val_acc: 0.9165\n",
      "Epoch 9/30\n",
      "4961/4961 [==============================] - 32s 6ms/step - loss: 0.2603 - acc: 0.9068 - val_loss: 0.3281 - val_acc: 0.8748\n",
      "Epoch 10/30\n",
      "4961/4961 [==============================] - 32s 6ms/step - loss: 0.2500 - acc: 0.9149 - val_loss: 0.2431 - val_acc: 0.9156\n",
      "Epoch 11/30\n",
      "4961/4961 [==============================] - 30s 6ms/step - loss: 0.2550 - acc: 0.9149 - val_loss: 0.2591 - val_acc: 0.9129\n",
      "Epoch 12/30\n",
      "4961/4961 [==============================] - 30s 6ms/step - loss: 0.2527 - acc: 0.9166 - val_loss: 0.2369 - val_acc: 0.9129\n",
      "Epoch 13/30\n",
      "4961/4961 [==============================] - 30s 6ms/step - loss: 0.2464 - acc: 0.9162 - val_loss: 0.2273 - val_acc: 0.9224\n",
      "Epoch 14/30\n",
      "4961/4961 [==============================] - 30s 6ms/step - loss: 0.2438 - acc: 0.9196 - val_loss: 0.2309 - val_acc: 0.9211\n",
      "Epoch 15/30\n",
      "4961/4961 [==============================] - 30s 6ms/step - loss: 0.2395 - acc: 0.9227 - val_loss: 0.2376 - val_acc: 0.9179\n",
      "Epoch 16/30\n",
      "4961/4961 [==============================] - 30s 6ms/step - loss: 0.2418 - acc: 0.9205 - val_loss: 0.2304 - val_acc: 0.9188\n",
      "Epoch 17/30\n",
      "4961/4961 [==============================] - 31s 6ms/step - loss: 0.2461 - acc: 0.9198 - val_loss: 0.2536 - val_acc: 0.9170\n",
      "Epoch 18/30\n",
      "4961/4961 [==============================] - 30s 6ms/step - loss: 0.2379 - acc: 0.9192 - val_loss: 0.2438 - val_acc: 0.9183\n",
      "Epoch 19/30\n",
      "4961/4961 [==============================] - 30s 6ms/step - loss: 0.2431 - acc: 0.9210 - val_loss: 0.2348 - val_acc: 0.9206\n",
      "Epoch 20/30\n",
      "4961/4961 [==============================] - 30s 6ms/step - loss: 0.2406 - acc: 0.9242 - val_loss: 0.2268 - val_acc: 0.9215\n",
      "Epoch 21/30\n",
      "4961/4961 [==============================] - 30s 6ms/step - loss: 0.2382 - acc: 0.9249 - val_loss: 0.2293 - val_acc: 0.9201\n",
      "Epoch 22/30\n",
      "4961/4961 [==============================] - 31s 6ms/step - loss: 0.2380 - acc: 0.9255 - val_loss: 0.2354 - val_acc: 0.9215\n",
      "Epoch 23/30\n",
      "4961/4961 [==============================] - 31s 6ms/step - loss: 0.2327 - acc: 0.9234 - val_loss: 0.2370 - val_acc: 0.9242\n",
      "Epoch 24/30\n",
      "4961/4961 [==============================] - 31s 6ms/step - loss: 0.2411 - acc: 0.9227 - val_loss: 0.2443 - val_acc: 0.9256\n",
      "Epoch 25/30\n",
      "4961/4961 [==============================] - 31s 6ms/step - loss: 0.2422 - acc: 0.9229 - val_loss: 0.2225 - val_acc: 0.9229\n",
      "Epoch 26/30\n",
      "4961/4961 [==============================] - 33s 7ms/step - loss: 0.2320 - acc: 0.9276 - val_loss: 0.2240 - val_acc: 0.9224\n",
      "Epoch 27/30\n",
      "4961/4961 [==============================] - 31s 6ms/step - loss: 0.2290 - acc: 0.9284 - val_loss: 0.2309 - val_acc: 0.9188\n",
      "Epoch 28/30\n",
      "4961/4961 [==============================] - 31s 6ms/step - loss: 0.2425 - acc: 0.9239 - val_loss: 0.2371 - val_acc: 0.9220\n",
      "Epoch 29/30\n",
      "4961/4961 [==============================] - 32s 6ms/step - loss: 0.2446 - acc: 0.9223 - val_loss: 0.2312 - val_acc: 0.9220\n",
      "Epoch 30/30\n",
      "4961/4961 [==============================] - 37s 8ms/step - loss: 0.2316 - acc: 0.9267 - val_loss: 0.2297 - val_acc: 0.9238\n"
     ]
    }
   ],
   "source": [
    "from keras import models\n",
    "from keras import layers\n",
    "from keras import optimizers\n",
    "model3 = models.Sequential()\n",
    "model3.add(layers.Dense(256, activation = \"relu\", input_dim = 2 * 2 * 512))\n",
    "model3.add(layers.Dropout(0.5))\n",
    "model3.add(layers.Dense(256, activation = \"relu\", input_dim = 2 * 2 * 512))\n",
    "model3.add(layers.Dropout(0.7))\n",
    "model3.add(layers.Dense(256, activation = \"relu\", input_dim = 2 * 2 * 512))\n",
    "model3.add(layers.Dropout(0.3))\n",
    "model3.add(layers.Dense(1, activation='sigmoid'))\n",
    "model3.add(layers.Dense(256, activation = \"relu\", input_dim = 2 * 2 * 512))\n",
    "model3.add(layers.Dropout(0.15))\n",
    "model3.add(layers.Dense(256, activation = \"relu\", input_dim = 2 * 2 * 512))\n",
    "model3.add(layers.Dropout(0.05))\n",
    "model3.add(layers.Dense(1, activation='sigmoid'))\n",
    "\n",
    "model3.compile(optimizer=optimizers.Adadelta(lr=1.0, rho=0.95, epsilon=1e-08, decay=0.0),\n",
    "              loss='binary_crossentropy',\n",
    "              metrics=['acc'])\n",
    "\n",
    "history3 = model3.fit(train_features, train_labels,\n",
    "                    epochs=30,\n",
    "                    batch_size=4,\n",
    "                    validation_data=(validation_features, validation_labels))"
   ]
  },
  {
   "cell_type": "code",
   "execution_count": 54,
   "metadata": {},
   "outputs": [
    {
     "data": {
      "image/png": "[encoded data removed]",
      "text/plain": [
       "<Figure size 432x288 with 1 Axes>"
      ]
     },
     "metadata": {
      "needs_background": "light"
     },
     "output_type": "display_data"
    },
    {
     "data": {
      "image/png": "[encoded data removed]",
      "text/plain": [
       "<Figure size 432x288 with 1 Axes>"
      ]
     },
     "metadata": {
      "needs_background": "light"
     },
     "output_type": "display_data"
    }
   ],
   "source": [
    "import matplotlib.pyplot as plt\n",
    "\n",
    "acc = history3.history['acc']\n",
    "val_acc = history3.history['val_acc']\n",
    "loss = history3.history['loss']\n",
    "val_loss = history3.history['val_loss']\n",
    "\n",
    "epochs = range(len(acc))\n",
    "\n",
    "plt.plot(epochs, acc, 'bo', label='Training acc')\n",
    "plt.plot(epochs, val_acc, 'b', label='Validation acc')\n",
    "plt.title('Training and validation accuracy')\n",
    "plt.legend()\n",
    "\n",
    "plt.figure()\n",
    "\n",
    "plt.plot(epochs, loss, 'bo', label='Training loss')\n",
    "plt.plot(epochs, val_loss, 'b', label='Validation loss')\n",
    "plt.title('Training and validation loss')\n",
    "plt.legend()\n",
    "\n",
    "plt.show()"
   ]
  },
  {
   "cell_type": "code",
   "execution_count": 55,
   "metadata": {},
   "outputs": [
    {
     "name": "stdout",
     "output_type": "stream",
     "text": [
      "173/173 [==============================] - 1s 3ms/step - loss: 0.2212 - acc: 0.9294\n"
     ]
    },
    {
     "data": {
      "text/plain": [
       "[0.22120387852191925, 0.9294267296791077]"
      ]
     },
     "execution_count": 55,
     "metadata": {},
     "output_type": "execute_result"
    }
   ],
   "source": [
    "model3.evaluate(test_features,test_labels)"
   ]
  },
  {
   "cell_type": "code",
   "execution_count": 156,
   "metadata": {},
   "outputs": [
    {
     "name": "stdout",
     "output_type": "stream",
     "text": [
      "Epoch 1/30\n",
      "4961/4961 [==============================] - 38s 7ms/step - loss: 0.6851 - acc: 0.5180 - val_loss: 0.3863 - val_acc: 0.8512\n",
      "Epoch 2/30\n",
      "4961/4961 [==============================] - 37s 7ms/step - loss: 0.3575 - acc: 0.8631 - val_loss: 0.2988 - val_acc: 0.8920\n",
      "Epoch 3/30\n",
      "4961/4961 [==============================] - 30s 6ms/step - loss: 0.3113 - acc: 0.8860 - val_loss: 0.2823 - val_acc: 0.8916\n",
      "Epoch 4/30\n",
      "4961/4961 [==============================] - 30s 6ms/step - loss: 0.2851 - acc: 0.8999 - val_loss: 0.2783 - val_acc: 0.8988\n",
      "Epoch 5/30\n",
      "4961/4961 [==============================] - 31s 6ms/step - loss: 0.2822 - acc: 0.9004 - val_loss: 0.2653 - val_acc: 0.9065\n",
      "Epoch 6/30\n",
      "4961/4961 [==============================] - 32s 6ms/step - loss: 0.2673 - acc: 0.9087 - val_loss: 0.2662 - val_acc: 0.9043\n",
      "Epoch 7/30\n",
      "4961/4961 [==============================] - 32s 7ms/step - loss: 0.2776 - acc: 0.9027 - val_loss: 0.2527 - val_acc: 0.9047\n",
      "Epoch 8/30\n",
      "4961/4961 [==============================] - 30s 6ms/step - loss: 0.2571 - acc: 0.9106 - val_loss: 0.2557 - val_acc: 0.9147\n",
      "Epoch 9/30\n",
      "4961/4961 [==============================] - 33s 7ms/step - loss: 0.2551 - acc: 0.9076 - val_loss: 0.2415 - val_acc: 0.9124\n",
      "Epoch 10/30\n",
      "4961/4961 [==============================] - 32s 7ms/step - loss: 0.2496 - acc: 0.9129 - val_loss: 0.2754 - val_acc: 0.9047\n",
      "Epoch 11/30\n",
      "4961/4961 [==============================] - 33s 7ms/step - loss: 0.2522 - acc: 0.9100 - val_loss: 0.2779 - val_acc: 0.9070\n",
      "Epoch 12/30\n",
      "4961/4961 [==============================] - 35s 7ms/step - loss: 0.2527 - acc: 0.9153 - val_loss: 0.2959 - val_acc: 0.9079\n",
      "Epoch 13/30\n",
      "4961/4961 [==============================] - 34s 7ms/step - loss: 0.2579 - acc: 0.9109 - val_loss: 0.2318 - val_acc: 0.9206\n",
      "Epoch 14/30\n",
      "4961/4961 [==============================] - 30s 6ms/step - loss: 0.2384 - acc: 0.9177 - val_loss: 0.2385 - val_acc: 0.9133\n",
      "Epoch 15/30\n",
      "4961/4961 [==============================] - 30s 6ms/step - loss: 0.2488 - acc: 0.9171 - val_loss: 0.2343 - val_acc: 0.9211\n",
      "Epoch 16/30\n",
      "4961/4961 [==============================] - 31s 6ms/step - loss: 0.2463 - acc: 0.9167 - val_loss: 0.3045 - val_acc: 0.8943\n",
      "Epoch 17/30\n",
      "4961/4961 [==============================] - 30s 6ms/step - loss: 0.2467 - acc: 0.9177 - val_loss: 0.2329 - val_acc: 0.9192\n",
      "Epoch 18/30\n",
      "4961/4961 [==============================] - 31s 6ms/step - loss: 0.2375 - acc: 0.9238 - val_loss: 0.2489 - val_acc: 0.9097\n",
      "Epoch 19/30\n",
      "4961/4961 [==============================] - 31s 6ms/step - loss: 0.2447 - acc: 0.9192 - val_loss: 0.2351 - val_acc: 0.9179\n",
      "Epoch 20/30\n",
      "4961/4961 [==============================] - 31s 6ms/step - loss: 0.2391 - acc: 0.9187 - val_loss: 0.2643 - val_acc: 0.9070\n",
      "Epoch 21/30\n",
      "4961/4961 [==============================] - 32s 6ms/step - loss: 0.2377 - acc: 0.9217 - val_loss: 0.2608 - val_acc: 0.8997\n",
      "Epoch 22/30\n",
      "4961/4961 [==============================] - 32s 6ms/step - loss: 0.2405 - acc: 0.9210 - val_loss: 0.2552 - val_acc: 0.8970\n",
      "Epoch 23/30\n",
      "4961/4961 [==============================] - 31s 6ms/step - loss: 0.2480 - acc: 0.9201 - val_loss: 0.2483 - val_acc: 0.9215\n",
      "Epoch 24/30\n",
      "4961/4961 [==============================] - 32s 6ms/step - loss: 0.2487 - acc: 0.9207 - val_loss: 0.2498 - val_acc: 0.9188\n",
      "Epoch 25/30\n",
      "4961/4961 [==============================] - 31s 6ms/step - loss: 0.2430 - acc: 0.9227 - val_loss: 0.2618 - val_acc: 0.9133\n",
      "Epoch 26/30\n",
      "4961/4961 [==============================] - 33s 7ms/step - loss: 0.2403 - acc: 0.9215 - val_loss: 0.2636 - val_acc: 0.9083\n",
      "Epoch 27/30\n",
      "4961/4961 [==============================] - 36s 7ms/step - loss: 0.2454 - acc: 0.9233 - val_loss: 0.2577 - val_acc: 0.9188\n",
      "Epoch 28/30\n",
      "4961/4961 [==============================] - 37s 7ms/step - loss: 0.2418 - acc: 0.9234 - val_loss: 0.2506 - val_acc: 0.9142\n",
      "Epoch 29/30\n",
      "4961/4961 [==============================] - 42s 8ms/step - loss: 0.2434 - acc: 0.9199 - val_loss: 0.2482 - val_acc: 0.9129\n",
      "Epoch 30/30\n",
      "4961/4961 [==============================] - 33s 7ms/step - loss: 0.2444 - acc: 0.9228 - val_loss: 0.2402 - val_acc: 0.9174\n"
     ]
    }
   ],
   "source": [
    "from keras import models\n",
    "from keras import layers\n",
    "from keras import optimizers\n",
    "model4 = models.Sequential()\n",
    "model4.add(layers.Dense(256, activation = \"relu\", input_dim = 2 * 2 * 512))\n",
    "model4.add(layers.Dropout(0.5))\n",
    "model4.add(layers.Dense(256, activation = \"relu\", input_dim = 2 * 2 * 512))\n",
    "model4.add(layers.Dropout(0.7))\n",
    "model4.add(layers.Dense(256, activation = \"relu\", input_dim = 2 * 2 * 512))\n",
    "model4.add(layers.Dropout(0.3))\n",
    "model4.add(layers.Dense(1, activation='sigmoid'))\n",
    "model4.add(layers.Dense(256, activation = \"relu\", input_dim = 2 * 2 * 512))\n",
    "model4.add(layers.Dropout(0.15))\n",
    "model4.add(layers.Dense(256, activation = \"relu\", input_dim = 2 * 2 * 512))\n",
    "model4.add(layers.Dropout(0.05))\n",
    "model4.add(layers.Dense(1, activation='sigmoid'))\n",
    "model4.add(layers.Dense(1024, activation = \"relu\", input_dim = 2 * 2 * 512))\n",
    "model4.add(layers.Dropout(0.01))\n",
    "model4.add(layers.Dense(1, activation='sigmoid'))\n",
    "\n",
    "model4.compile(optimizer=optimizers.Adadelta(lr=1.0, rho=0.95, epsilon=1e-08, decay=0.0),\n",
    "              loss='binary_crossentropy',\n",
    "              metrics=['acc'])\n",
    "\n",
    "history4 = model4.fit(train_features, train_labels,\n",
    "                    epochs=30,\n",
    "                    batch_size=4,\n",
    "                    validation_data=(validation_features, validation_labels))"
   ]
  },
  {
   "cell_type": "code",
   "execution_count": 157,
   "metadata": {},
   "outputs": [
    {
     "data": {
      "image/png": "[encoded data removed]",
      "text/plain": [
       "<Figure size 432x288 with 1 Axes>"
      ]
     },
     "metadata": {
      "needs_background": "light"
     },
     "output_type": "display_data"
    },
    {
     "data": {
      "image/png": "[encoded data removed]",
      "text/plain": [
       "<Figure size 432x288 with 1 Axes>"
      ]
     },
     "metadata": {
      "needs_background": "light"
     },
     "output_type": "display_data"
    }
   ],
   "source": [
    "import matplotlib.pyplot as plt\n",
    "\n",
    "acc = history3.history['acc']\n",
    "val_acc = history3.history['val_acc']\n",
    "loss = history3.history['loss']\n",
    "val_loss = history3.history['val_loss']\n",
    "\n",
    "epochs = range(len(acc))\n",
    "\n",
    "plt.plot(epochs, acc, 'bo', label='Training acc')\n",
    "plt.plot(epochs, val_acc, 'b', label='Validation acc')\n",
    "plt.title('Training and validation accuracy')\n",
    "plt.legend()\n",
    "\n",
    "plt.figure()\n",
    "\n",
    "plt.plot(epochs, loss, 'bo', label='Training loss')\n",
    "plt.plot(epochs, val_loss, 'b', label='Validation loss')\n",
    "plt.title('Training and validation loss')\n",
    "plt.legend()\n",
    "\n",
    "plt.show()"
   ]
  },
  {
   "cell_type": "code",
   "execution_count": 158,
   "metadata": {},
   "outputs": [
    {
     "name": "stdout",
     "output_type": "stream",
     "text": [
      "173/173 [==============================] - 1s 5ms/step - loss: 0.2285 - acc: 0.9272\n"
     ]
    },
    {
     "data": {
      "text/plain": [
       "[0.2285424917936325, 0.9272496104240417]"
      ]
     },
     "execution_count": 158,
     "metadata": {},
     "output_type": "execute_result"
    }
   ],
   "source": [
    "model4.evaluate(test_features,test_labels)"
   ]
  },
  {
   "cell_type": "markdown",
   "metadata": {},
   "source": [
    "### Adding more layers to the CNN for getting a better accuracy:"
   ]
  },
  {
   "cell_type": "code",
   "execution_count": 13,
   "metadata": {},
   "outputs": [],
   "source": [
    "import numpy as np\n",
    "import pandas as pd\n",
    "import matplotlib.pyplot as plt\n",
    "import seaborn as sns\n",
    "from sklearn.metrics import confusion_matrix\n",
    "from sklearn.model_selection import train_test_split\n",
    "%matplotlib inline\n",
    "import os\n",
    "import cv2 as cv\n",
    "import glob as gb\n",
    "np.random.seed(2)\n",
    "from tensorflow.keras.callbacks import EarlyStopping\n",
    "from tensorflow.keras.models import Sequential\n",
    "from tensorflow.keras.layers import Conv2D , Dense , Dropout , Flatten , MaxPooling2D , BatchNormalization ,experimental\n",
    "from tensorflow.python.keras.preprocessing.image import ImageDataGenerator"
   ]
  },
  {
   "cell_type": "code",
   "execution_count": 16,
   "metadata": {},
   "outputs": [],
   "source": [
    "s=64\n",
    "X_train=[]\n",
    "y_train=[]\n",
    "\n",
    "code={'Uninfected':0,'Parasitized':1}\n",
    "    \n",
    "def getcode(n):\n",
    "    for x,y in code.items() :\n",
    "        if n==y :\n",
    "            return x"
   ]
  },
  {
   "cell_type": "code",
   "execution_count": 17,
   "metadata": {},
   "outputs": [],
   "source": [
    "trainpath = \"malaria/cell_images/\"\n",
    "\n",
    "for folder in os.listdir(trainpath):\n",
    "    files=gb.glob(pathname=str(trainpath+folder+'/*.png'))\n",
    "    for file in files :\n",
    "        image=cv.imread(file)\n",
    "        X_train.append(list(cv.resize(image,(s,s))))\n",
    "        y_train.append(code[folder])"
   ]
  },
  {
   "cell_type": "code",
   "execution_count": 21,
   "metadata": {},
   "outputs": [],
   "source": [
    "testpath = \"malaria/cell_images/testing\"\n",
    "\n",
    "for folder in os.listdir(trainpath):\n",
    "    files=gb.glob(pathname=str(testpath+folder+'/*.png'))\n",
    "    for file in files :\n",
    "        image=cv.imread(file)\n",
    "        X_test.append(list(cv.resize(image,(s,s))))\n",
    "        y_test.append(code[folder])"
   ]
  },
  {
   "cell_type": "code",
   "execution_count": 22,
   "metadata": {},
   "outputs": [
    {
     "data": {
      "image/png": "[encoded data removed]",
      "text/plain": [
       "<Figure size 432x288 with 1 Axes>"
      ]
     },
     "metadata": {
      "needs_background": "light"
     },
     "output_type": "display_data"
    }
   ],
   "source": [
    "plt.imshow(X_test[0])\n",
    "plt.show()"
   ]
  },
  {
   "cell_type": "code",
   "execution_count": 23,
   "metadata": {},
   "outputs": [],
   "source": [
    "from sklearn.utils import shuffle\n",
    "X_train, y_train = shuffle(X_train, y_train, random_state=0)\n",
    "X_train=np.array(X_train)\n",
    "y_train=np.array(y_train)"
   ]
  },
  {
   "cell_type": "code",
   "execution_count": 24,
   "metadata": {},
   "outputs": [],
   "source": [
    "from sklearn.utils import shuffle\n",
    "X_test, y_test = shuffle(X_test, y_test, random_state=0)\n",
    "X_test=np.array(X_test)\n",
    "y_test=np.array(y_test)"
   ]
  },
  {
   "cell_type": "code",
   "execution_count": 25,
   "metadata": {},
   "outputs": [],
   "source": [
    "image_gen = ImageDataGenerator(\n",
    "    \n",
    "      rescale=1./255,\n",
    "      shear_range=0.2,\n",
    "      zoom_range=0.2,\n",
    "      horizontal_flip=True\n",
    "\n",
    ")\n",
    "\n",
    "\n",
    "image_gen.fit(X_test, augment=True)"
   ]
  },
  {
   "cell_type": "code",
   "execution_count": 26,
   "metadata": {},
   "outputs": [],
   "source": [
    "model1=Sequential([\n",
    "\n",
    "    Conv2D(filters=32,kernel_size=(2,2),padding='valid',activation='relu',input_shape=(s,s,3)),\n",
    "    \n",
    "    MaxPooling2D(pool_size=(2,2)),\n",
    "\n",
    "    Conv2D(filters=64,kernel_size=(2,2),padding='valid',activation='relu'),\n",
    "    \n",
    "    MaxPooling2D(pool_size=(2,2)),\n",
    "    \n",
    "    Conv2D(filters=128,kernel_size=(2,2),padding='same',activation='relu'),\n",
    "\n",
    "    MaxPooling2D(pool_size=(2,2)),\n",
    "\n",
    "    Conv2D(filters=256,kernel_size=(3,3),padding='same',activation='relu'),\n",
    "    \n",
    "    MaxPooling2D(pool_size=(3,3),strides=(2,2)),\n",
    "\n",
    "    Flatten(),\n",
    "\n",
    "    Dense(256,activation='relu'),\n",
    "    \n",
    "    Dense(265,activation='relu'),\n",
    "\n",
    "    Dense(128,activation='relu'),\n",
    "    \n",
    "    Dense(64,activation='relu'),\n",
    "\n",
    "    Dense(1,activation='sigmoid')\n",
    "\n",
    "    ])\n",
    "\n",
    "\n",
    "\n",
    "model1.compile(optimizer='adam',loss='binary_crossentropy',metrics=[\"accuracy\"])"
   ]
  },
  {
   "cell_type": "code",
   "execution_count": 27,
   "metadata": {},
   "outputs": [],
   "source": [
    "callback = EarlyStopping(restore_best_weights=True, patience=2)"
   ]
  },
  {
   "cell_type": "code",
   "execution_count": 28,
   "metadata": {},
   "outputs": [
    {
     "name": "stdout",
     "output_type": "stream",
     "text": [
      "Epoch 1/100\n",
      "776/776 [==============================] - 136s 174ms/step - loss: 0.7461 - accuracy: 0.8021 - val_loss: 0.1368 - val_accuracy: 0.9594\n",
      "Epoch 2/100\n",
      "776/776 [==============================] - 142s 183ms/step - loss: 0.1690 - accuracy: 0.9460 - val_loss: 0.1502 - val_accuracy: 0.9572\n",
      "Epoch 3/100\n",
      "776/776 [==============================] - 137s 176ms/step - loss: 0.1515 - accuracy: 0.9528 - val_loss: 0.1254 - val_accuracy: 0.9604\n",
      "Epoch 4/100\n",
      "776/776 [==============================] - 136s 175ms/step - loss: 0.1317 - accuracy: 0.9568 - val_loss: 0.1246 - val_accuracy: 0.9615\n",
      "Epoch 5/100\n",
      "776/776 [==============================] - 137s 177ms/step - loss: 0.1261 - accuracy: 0.9569 - val_loss: 0.1284 - val_accuracy: 0.9608\n",
      "Epoch 6/100\n",
      "776/776 [==============================] - 137s 176ms/step - loss: 0.1143 - accuracy: 0.9618 - val_loss: 0.1258 - val_accuracy: 0.9594\n"
     ]
    },
    {
     "data": {
      "text/plain": [
       "6"
      ]
     },
     "execution_count": 28,
     "metadata": {},
     "output_type": "execute_result"
    }
   ],
   "source": [
    "history = model1.fit(X_test,y_test,validation_split=0.1,epochs=100,batch_size=32, callbacks=[callback], verbose=1)\n",
    "len(history.history['loss'])"
   ]
  },
  {
   "cell_type": "code",
   "execution_count": 29,
   "metadata": {},
   "outputs": [
    {
     "name": "stdout",
     "output_type": "stream",
     "text": [
      "862/862 [==============================] - 35s 41ms/step - loss: 0.1152 - accuracy: 0.9612\n"
     ]
    }
   ],
   "source": [
    "ModelLoss, ModelAccuracy = model1.evaluate(X_test, y_test)\n",
    "y_pred=model1.predict(X_test)"
   ]
  },
  {
   "cell_type": "code",
   "execution_count": 30,
   "metadata": {},
   "outputs": [
    {
     "name": "stdout",
     "output_type": "stream",
     "text": [
      "Model Loss is 0.11515133082866669\n",
      "Model Accuracy is 0.9612453579902649\n"
     ]
    }
   ],
   "source": [
    "print(\"Model Loss is\",ModelLoss)\n",
    "print(\"Model Accuracy is\", ModelAccuracy)"
   ]
  },
  {
   "cell_type": "code",
   "execution_count": 31,
   "metadata": {},
   "outputs": [
    {
     "data": {
      "image/png": "[encoded data removed]",
      "text/plain": [
       "<Figure size 432x288 with 1 Axes>"
      ]
     },
     "metadata": {
      "needs_background": "light"
     },
     "output_type": "display_data"
    },
    {
     "data": {
      "image/png": "[encoded data removed]",
      "text/plain": [
       "<Figure size 432x288 with 1 Axes>"
      ]
     },
     "metadata": {
      "needs_background": "light"
     },
     "output_type": "display_data"
    }
   ],
   "source": [
    "# summarize history for accuracy\n",
    "plt.plot(history.history['accuracy'])\n",
    "plt.plot(history.history['val_accuracy'])\n",
    "plt.title('model accuracy')\n",
    "plt.ylabel('accuracy')\n",
    "plt.xlabel('epoch')\n",
    "plt.legend(['train', 'test'], loc='upper left')\n",
    "plt.show()\n",
    "# summarize history for loss\n",
    "plt.plot(history.history['loss'])\n",
    "plt.plot(history.history['val_loss'])\n",
    "plt.title('model loss')\n",
    "plt.ylabel('loss')\n",
    "plt.xlabel('epoch')\n",
    "plt.legend(['train', 'test'], loc='upper left')\n",
    "plt.show()\n"
   ]
  },
  {
   "cell_type": "markdown",
   "metadata": {},
   "source": [
    "### The best model accuracy is 96.12453579902649%"
   ]
  }
 ],
 "metadata": {
  "kernelspec": {
   "display_name": "Python 3",
   "language": "python",
   "name": "python3"
  },
  "language_info": {
   "codemirror_mode": {
    "name": "ipython",
    "version": 3
   },
   "file_extension": ".py",
   "mimetype": "text/x-python",
   "name": "python",
   "nbconvert_exporter": "python",
   "pygments_lexer": "ipython3",
   "version": "3.7.6"
  }
 },
 "nbformat": 4,
 "nbformat_minor": 4
}
